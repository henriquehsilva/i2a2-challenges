{
  "nbformat": 4,
  "nbformat_minor": 0,
  "metadata": {
    "colab": {
      "name": "I2A2 - Bone Age Regression.ipynb",
      "provenance": [],
      "collapsed_sections": [],
      "toc_visible": true,
      "authorship_tag": "ABX9TyNtmyPc+0aIZDZ1YmYWkuUV",
      "include_colab_link": true
    },
    "kernelspec": {
      "name": "python3",
      "display_name": "Python 3"
    }
  },
  "cells": [
    {
      "cell_type": "markdown",
      "metadata": {
        "id": "view-in-github",
        "colab_type": "text"
      },
      "source": [
        "<a href=\"https://colab.research.google.com/github/henriquehsilva/i2a2-challenges/blob/master/I2A2_Bone_Age_Regression.ipynb\" target=\"_parent\"><img src=\"https://colab.research.google.com/assets/colab-badge.svg\" alt=\"Open In Colab\"/></a>"
      ]
    },
    {
      "cell_type": "code",
      "metadata": {
        "id": "0Bvw4DP4geMo",
        "colab_type": "code",
        "colab": {}
      },
      "source": [
        "from IPython.display import HTML, display"
      ],
      "execution_count": 1,
      "outputs": []
    },
    {
      "cell_type": "markdown",
      "metadata": {
        "id": "EL5RRm6h25nn",
        "colab_type": "text"
      },
      "source": [
        "# I2A2 - Bone Age Regression\n",
        "---\n",
        "\n"
      ]
    },
    {
      "cell_type": "markdown",
      "metadata": {
        "id": "lc_Qc37k2oWO",
        "colab_type": "text"
      },
      "source": [
        "## Contexto\n",
        "> ### Criar um modelo para prever a idade óssea de crianças pelo raio-x da mão.\n",
        "\n",
        "\n",
        "*   O conjunto de dados de treinamento vem da competição RSNA 2017\n",
        "*   O conjunto de dados de teste é de um hospital brasileiro\n",
        "\n",
        "**Diretivas primárias:** \n",
        "\n",
        "\n",
        "1. Generalizar o modelo para lidar com a mudança de distribuição entre os conjuntos de dados;\n",
        "2. O conjunto de dados de **TREINAMENTO contém apenas imagens com a mão esquerda**, o conjunto de dados de **TESTE contém algumas imagens com as duas mãos**;\n",
        "3. Ajustar o modelo, para lidar com a variância de resultados entre pacientes de sexos opostos;\n",
        "\n",
        "---\n",
        "## Visão geral\n",
        "\n",
        "Uma das principais preocupações da medicina e da odontologia legal é a busca\n",
        "de mecanismos que permitam a determinação da idade de pessoas e, para o desenvolvimento\n",
        "deste trabalho, escolheu-se a **região de mão e pulso**, para a determinação da idade e do\n",
        "desenvolvimento ósseo, devido a seqüência cronológica que a mesma apresenta bem como a\n",
        "quantidade de ossos e epífises em uma área não muito extensa sendo possível realizar uma\n",
        "única tomada radiográfica, evitando-se exposições desnecessárias ao paciente. \n",
        "\n"
      ]
    },
    {
      "cell_type": "code",
      "metadata": {
        "id": "yQhsbJhugnwe",
        "colab_type": "code",
        "colab": {
          "base_uri": "https://localhost:8080/",
          "height": 340
        },
        "outputId": "90805e26-cebe-4e70-a282-0aff0d0a4cd3"
      },
      "source": [
        "video_ids = ['Zs1oC_upTvM', 'WIk5S0BHotY']\n",
        "\n",
        "def embed_video(video_ids):\n",
        "  videos_str = \"\"\n",
        "  \n",
        "  for video_id in video_ids: \n",
        "    videos_str += (\n",
        "      f\"<iframe width='560' height='315' src='https://www.youtube.com/embed/{video_id}'.format(test)\" \\\n",
        "       \"frameborder='0' allow='accelerometer; autoplay; encrypted-media; gyroscope;\" \\\n",
        "       \" picture-in-picture' allowfullscreen></iframe>\"\n",
        "      )\n",
        "    \n",
        "  return HTML(videos_str)\n",
        "\n",
        "embed_video(video_ids)"
      ],
      "execution_count": 65,
      "outputs": [
        {
          "output_type": "execute_result",
          "data": {
            "text/html": [
              "<iframe width='560' height='315' src='https://www.youtube.com/embed/Zs1oC_upTvM'.format(test)frameborder='0' allow='accelerometer; autoplay; encrypted-media; gyroscope; picture-in-picture' allowfullscreen></iframe><iframe width='560' height='315' src='https://www.youtube.com/embed/WIk5S0BHotY'.format(test)frameborder='0' allow='accelerometer; autoplay; encrypted-media; gyroscope; picture-in-picture' allowfullscreen></iframe>"
            ],
            "text/plain": [
              "<IPython.core.display.HTML object>"
            ]
          },
          "metadata": {
            "tags": []
          },
          "execution_count": 65
        }
      ]
    },
    {
      "cell_type": "markdown",
      "metadata": {
        "id": "w3T2Ac3JmvJB",
        "colab_type": "text"
      },
      "source": [
        "Após estudo da tese de mestrado do cirurgião dentista Mauricio Roberto Bosquiero: [DETERMINAÇÃO DA MATURIDADE ESQUELÉTICA\n",
        "E ESTIMATIVA DA IDADE ATRA VÊS DE\n",
        "RADIOGRAFIAS CARPAIS.](https://storage.googleapis.com/bone-age-regression.henriquesilva.dev/docs/tese_mauricio_roberto.pdf), podemos chegar a uma terceira diretiva, referente a clara variância da maturidade esquelética de pacientes de mesma idade e sexos opostos.\n",
        "\n",
        "---\n",
        "\n",
        "\n",
        "> ### Pretendo avaliar o desempenho dos seguintes modelos pré-treinados: <br />\n",
        "**ResNet-50**, **Inception-V3** e **VGG-16**, a fim de criar um desenho apropriado da camada pré-treinada para CNNs na previsão da idade óssea."
      ]
    },
    {
      "cell_type": "code",
      "metadata": {
        "id": "cnYtLmx20r7J",
        "colab_type": "code",
        "colab": {
          "base_uri": "https://localhost:8080/",
          "height": 289
        },
        "outputId": "99d2460b-306e-4cf6-fbbf-51c2c754c24d"
      },
      "source": [
        "# Sweetviz: Python library for Exploratory data analysis (EDA)\n",
        "!pip install sweetviz"
      ],
      "execution_count": 3,
      "outputs": [
        {
          "output_type": "stream",
          "text": [
            "Requirement already satisfied: sweetviz in /usr/local/lib/python3.6/dist-packages (1.0a7)\n",
            "Requirement already satisfied: jinja2>=2.11.1 in /usr/local/lib/python3.6/dist-packages (from sweetviz) (2.11.2)\n",
            "Requirement already satisfied: pandas!=1.0.0,!=1.0.1,!=1.0.2,>=0.25.3 in /usr/local/lib/python3.6/dist-packages (from sweetviz) (1.0.5)\n",
            "Requirement already satisfied: tqdm>=4.43.0 in /usr/local/lib/python3.6/dist-packages (from sweetviz) (4.47.0)\n",
            "Requirement already satisfied: numpy>=1.16.0 in /usr/local/lib/python3.6/dist-packages (from sweetviz) (1.18.5)\n",
            "Requirement already satisfied: importlib-resources>=1.2.0 in /usr/local/lib/python3.6/dist-packages (from sweetviz) (3.0.0)\n",
            "Requirement already satisfied: scipy>=1.3.2 in /usr/local/lib/python3.6/dist-packages (from sweetviz) (1.4.1)\n",
            "Requirement already satisfied: matplotlib>=3.1.3 in /usr/local/lib/python3.6/dist-packages (from sweetviz) (3.2.2)\n",
            "Requirement already satisfied: MarkupSafe>=0.23 in /usr/local/lib/python3.6/dist-packages (from jinja2>=2.11.1->sweetviz) (1.1.1)\n",
            "Requirement already satisfied: pytz>=2017.2 in /usr/local/lib/python3.6/dist-packages (from pandas!=1.0.0,!=1.0.1,!=1.0.2,>=0.25.3->sweetviz) (2018.9)\n",
            "Requirement already satisfied: python-dateutil>=2.6.1 in /usr/local/lib/python3.6/dist-packages (from pandas!=1.0.0,!=1.0.1,!=1.0.2,>=0.25.3->sweetviz) (2.8.1)\n",
            "Requirement already satisfied: zipp>=0.4; python_version < \"3.8\" in /usr/local/lib/python3.6/dist-packages (from importlib-resources>=1.2.0->sweetviz) (3.1.0)\n",
            "Requirement already satisfied: cycler>=0.10 in /usr/local/lib/python3.6/dist-packages (from matplotlib>=3.1.3->sweetviz) (0.10.0)\n",
            "Requirement already satisfied: kiwisolver>=1.0.1 in /usr/local/lib/python3.6/dist-packages (from matplotlib>=3.1.3->sweetviz) (1.2.0)\n",
            "Requirement already satisfied: pyparsing!=2.0.4,!=2.1.2,!=2.1.6,>=2.0.1 in /usr/local/lib/python3.6/dist-packages (from matplotlib>=3.1.3->sweetviz) (2.4.7)\n",
            "Requirement already satisfied: six>=1.5 in /usr/local/lib/python3.6/dist-packages (from python-dateutil>=2.6.1->pandas!=1.0.0,!=1.0.1,!=1.0.2,>=0.25.3->sweetviz) (1.12.0)\n"
          ],
          "name": "stdout"
        }
      ]
    },
    {
      "cell_type": "code",
      "metadata": {
        "id": "m3mNnzLq1zZl",
        "colab_type": "code",
        "colab": {
          "base_uri": "https://localhost:8080/",
          "height": 34
        },
        "outputId": "71586088-9f20-42bf-f7db-f847bb53f545"
      },
      "source": [
        "import tensorflow as tf\n",
        "print(f\"TensorFlow V{tf.__version__} 🦾\")"
      ],
      "execution_count": 4,
      "outputs": [
        {
          "output_type": "stream",
          "text": [
            "TensorFlow V2.2.0 🦾\n"
          ],
          "name": "stdout"
        }
      ]
    },
    {
      "cell_type": "code",
      "metadata": {
        "id": "G6jUcKGKqvqW",
        "colab_type": "code",
        "colab": {}
      },
      "source": [
        "import pandas as pd\n",
        "import sweetviz\n",
        "import requests\n",
        "\n",
        "from sklearn.model_selection import train_test_split\n",
        "from google.colab import auth\n",
        "from datetime import datetime"
      ],
      "execution_count": 5,
      "outputs": []
    },
    {
      "cell_type": "markdown",
      "metadata": {
        "id": "SX8X_-MYms2U",
        "colab_type": "text"
      },
      "source": [
        "# Configurar conjuntos de desenvolvimento e de teste\n",
        "---\n",
        "\n",
        "O **Google Cloud Storage** foi escolhido como centralizador dos arquivos de suporte, bem como aos novos arquivos e relatórios gerados, por oferecer a disponibilidade e a capacidade necessárias para se trabalhar de forma distribuida.\n"
      ]
    },
    {
      "cell_type": "code",
      "metadata": {
        "id": "Xf_XG-7dn5Am",
        "colab_type": "code",
        "colab": {}
      },
      "source": [
        "GCP_STORAGE_BASE_URI = \"https://storage.googleapis.com/bone-age-regression.henriquesilva.dev\"\n",
        "\n",
        "TRAIN_URI = f\"{GCP_STORAGE_BASE_URI}/train.csv\"\n",
        "TEST_URI = f\"{GCP_STORAGE_BASE_URI}/test.csv\"\n",
        "\n",
        "full_train_df = pd.read_csv(TRAIN_URI)\n",
        "test_df = pd.read_csv(TEST_URI)"
      ],
      "execution_count": 6,
      "outputs": []
    },
    {
      "cell_type": "markdown",
      "metadata": {
        "id": "EmZHomjMw81T",
        "colab_type": "text"
      },
      "source": [
        "# Adicionar séries da categoria da idade óssea e link da imagem do raio-x da mão"
      ]
    },
    {
      "cell_type": "code",
      "metadata": {
        "id": "bOs2EKPfYZWs",
        "colab_type": "code",
        "colab": {}
      },
      "source": [
        "full_train_df['boneage_category'] = pd.cut(full_train_df['boneage'], 10)"
      ],
      "execution_count": 7,
      "outputs": []
    },
    {
      "cell_type": "code",
      "metadata": {
        "id": "QUTOqSNlW4jN",
        "colab_type": "code",
        "colab": {}
      },
      "source": [
        "def image_link_generator(path_uri, file_name):\n",
        "  image_link = f\"{path_uri}/images/{file_name}\"\n",
        "  return image_link\n",
        "\n",
        "full_train_df['image_link'] = full_train_df['fileName'].map(\n",
        "  lambda file_name: image_link_generator(GCP_STORAGE_BASE_URI, file_name)\n",
        ")"
      ],
      "execution_count": 8,
      "outputs": []
    },
    {
      "cell_type": "code",
      "metadata": {
        "id": "F-l6mYuk1uZa",
        "colab_type": "code",
        "colab": {
          "base_uri": "https://localhost:8080/",
          "height": 204
        },
        "outputId": "ccda65e7-e69f-45c3-ec3c-8e8b84a8b16c"
      },
      "source": [
        "HTML(full_train_df.head(5).to_html(render_links=True, escape=False))"
      ],
      "execution_count": 9,
      "outputs": [
        {
          "output_type": "execute_result",
          "data": {
            "text/html": [
              "<table border=\"1\" class=\"dataframe\">\n",
              "  <thead>\n",
              "    <tr style=\"text-align: right;\">\n",
              "      <th></th>\n",
              "      <th>fileName</th>\n",
              "      <th>patientSex</th>\n",
              "      <th>boneage</th>\n",
              "      <th>boneage_category</th>\n",
              "      <th>image_link</th>\n",
              "    </tr>\n",
              "  </thead>\n",
              "  <tbody>\n",
              "    <tr>\n",
              "      <th>0</th>\n",
              "      <td>1377.png</td>\n",
              "      <td>F</td>\n",
              "      <td>180</td>\n",
              "      <td>(159.9, 182.6]</td>\n",
              "      <td><a href=\"https://storage.googleapis.com/bone-age-regression.henriquesilva.dev/images/1377.png\" target=\"_blank\">https://storage.googleapis.com/bone-age-regression.henriquesilva.dev/images/1377.png</a></td>\n",
              "    </tr>\n",
              "    <tr>\n",
              "      <th>1</th>\n",
              "      <td>1378.png</td>\n",
              "      <td>F</td>\n",
              "      <td>12</td>\n",
              "      <td>(0.773, 23.7]</td>\n",
              "      <td><a href=\"https://storage.googleapis.com/bone-age-regression.henriquesilva.dev/images/1378.png\" target=\"_blank\">https://storage.googleapis.com/bone-age-regression.henriquesilva.dev/images/1378.png</a></td>\n",
              "    </tr>\n",
              "    <tr>\n",
              "      <th>2</th>\n",
              "      <td>1379.png</td>\n",
              "      <td>F</td>\n",
              "      <td>94</td>\n",
              "      <td>(91.8, 114.5]</td>\n",
              "      <td><a href=\"https://storage.googleapis.com/bone-age-regression.henriquesilva.dev/images/1379.png\" target=\"_blank\">https://storage.googleapis.com/bone-age-regression.henriquesilva.dev/images/1379.png</a></td>\n",
              "    </tr>\n",
              "    <tr>\n",
              "      <th>3</th>\n",
              "      <td>1380.png</td>\n",
              "      <td>M</td>\n",
              "      <td>120</td>\n",
              "      <td>(114.5, 137.2]</td>\n",
              "      <td><a href=\"https://storage.googleapis.com/bone-age-regression.henriquesilva.dev/images/1380.png\" target=\"_blank\">https://storage.googleapis.com/bone-age-regression.henriquesilva.dev/images/1380.png</a></td>\n",
              "    </tr>\n",
              "    <tr>\n",
              "      <th>4</th>\n",
              "      <td>1381.png</td>\n",
              "      <td>F</td>\n",
              "      <td>82</td>\n",
              "      <td>(69.1, 91.8]</td>\n",
              "      <td><a href=\"https://storage.googleapis.com/bone-age-regression.henriquesilva.dev/images/1381.png\" target=\"_blank\">https://storage.googleapis.com/bone-age-regression.henriquesilva.dev/images/1381.png</a></td>\n",
              "    </tr>\n",
              "  </tbody>\n",
              "</table>"
            ],
            "text/plain": [
              "<IPython.core.display.HTML object>"
            ]
          },
          "metadata": {
            "tags": []
          },
          "execution_count": 9
        }
      ]
    },
    {
      "cell_type": "markdown",
      "metadata": {
        "id": "INVRb98cu2TS",
        "colab_type": "text"
      },
      "source": [
        "# Dividir dados em treinamento e validação"
      ]
    },
    {
      "cell_type": "code",
      "metadata": {
        "id": "oy4JbQX5cf1I",
        "colab_type": "code",
        "colab": {
          "base_uri": "https://localhost:8080/",
          "height": 34
        },
        "outputId": "fbf0d3bb-4846-462f-fdcb-aff6f651fbad"
      },
      "source": [
        "train_df, valid_df = train_test_split(\n",
        "  full_train_df, \n",
        "  test_size = 0.25, \n",
        "  random_state = 2018,\n",
        "  stratify = full_train_df['boneage_category']\n",
        ")\n",
        "\n",
        "print('train', train_df.shape[0], 'validation', valid_df.shape[0])"
      ],
      "execution_count": 10,
      "outputs": [
        {
          "output_type": "stream",
          "text": [
            "train 9458 validation 3153\n"
          ],
          "name": "stdout"
        }
      ]
    },
    {
      "cell_type": "markdown",
      "metadata": {
        "id": "VhL1J1XVS3Z5",
        "colab_type": "text"
      },
      "source": [
        "# Análise exploratória primária de dados de desenvolvimento\n"
      ]
    },
    {
      "cell_type": "code",
      "metadata": {
        "id": "_MPRuqV_3wdC",
        "colab_type": "code",
        "colab": {}
      },
      "source": [
        "columns = ['fileName', 'boneage_category', 'image_link']\n",
        "train = train_df.drop(columns, axis=1)\n",
        "valid = valid_df.drop(columns, axis=1)"
      ],
      "execution_count": 11,
      "outputs": []
    },
    {
      "cell_type": "markdown",
      "metadata": {
        "id": "TE_wnhfmT7Ca",
        "colab_type": "text"
      },
      "source": [
        "A execução deste comando executará a análise e criará o objeto de relatório. Para obter a saída, basta usar o comando `show_html()`:"
      ]
    },
    {
      "cell_type": "code",
      "metadata": {
        "id": "7Kj_T3YG4Ro9",
        "colab_type": "code",
        "colab": {
          "base_uri": "https://localhost:8080/",
          "height": 68
        },
        "outputId": "5c1547d0-2ba6-423b-d3fe-826e0df16eb0"
      },
      "source": [
        "data_report = sweetviz.compare([train, \"Train\"], [valid, \"Valid\"], \"boneage\")"
      ],
      "execution_count": 12,
      "outputs": [
        {
          "output_type": "stream",
          "text": [
            ":FEATURES DONE:                    |█████████████████████| [100%]   00:01  -> (00:00 left)\n",
            ":PAIRWISE DONE:                    |█████████████████████| [100%]   00:00  -> (00:00 left)\n"
          ],
          "name": "stderr"
        },
        {
          "output_type": "stream",
          "text": [
            "Creating Associations graph... DONE!\n"
          ],
          "name": "stdout"
        }
      ]
    },
    {
      "cell_type": "code",
      "metadata": {
        "id": "UAZLcbzYsH5_",
        "colab_type": "code",
        "colab": {}
      },
      "source": [
        "now = datetime.now()\n",
        "timestamp = now.strftime(\"%Y%m%d%H%M%S\")\n",
        "\n",
        "report_file = f\"{timestamp}_report_view.html\"\n",
        "\n",
        "data_report.show_html(report_file)"
      ],
      "execution_count": 13,
      "outputs": []
    },
    {
      "cell_type": "markdown",
      "metadata": {
        "id": "hiaqrNWe5WX2",
        "colab_type": "text"
      },
      "source": [
        "# Exportar relatório"
      ]
    },
    {
      "cell_type": "code",
      "metadata": {
        "id": "yRWC_PgcsOO4",
        "colab_type": "code",
        "colab": {
          "base_uri": "https://localhost:8080/",
          "height": 85
        },
        "outputId": "827d5053-6161-49b0-fe7c-f33e839a47ba"
      },
      "source": [
        "auth.authenticate_user()\n",
        "\n",
        "GCP_PROJECT_ID = 'i2a2-283020'\n",
        "GCP_BUCKET_NAME = 'bone-age-regression.henriquesilva.dev'\n",
        "\n",
        "!gcloud config set project {GCP_PROJECT_ID}\n",
        "\n",
        "!gsutil cp /content/\"{report_file}\" gs://{GCP_BUCKET_NAME}/reports/\n"
      ],
      "execution_count": 14,
      "outputs": [
        {
          "output_type": "stream",
          "text": [
            "Updated property [core/project].\n",
            "Copying file:///content/20200715013336_report_view.html [Content-Type=text/html]...\n",
            "-\n",
            "Operation completed over 1 objects/553.7 KiB.                                    \n"
          ],
          "name": "stdout"
        }
      ]
    },
    {
      "cell_type": "code",
      "metadata": {
        "id": "ekCm8d5bPone",
        "colab_type": "code",
        "colab": {
          "base_uri": "https://localhost:8080/",
          "height": 34
        },
        "outputId": "7f5cfc08-2ab0-4eb8-96f3-6946357d35f8"
      },
      "source": [
        "response = requests.get(f\"{GCP_STORAGE_BASE_URI}/reports/{report_file}\")\n",
        "\n",
        "if (response.status_code == 200):\n",
        "  print(f\"Open your report it using the default browser like link: {response.url}\")\n",
        "else:\n",
        "  print(\"Sorry, the report not found.\")"
      ],
      "execution_count": 15,
      "outputs": [
        {
          "output_type": "stream",
          "text": [
            "Open your report it using the default browser like link: https://storage.googleapis.com/bone-age-regression.henriquesilva.dev/reports/20200715013336_report_view.html\n"
          ],
          "name": "stdout"
        }
      ]
    }
  ]
}