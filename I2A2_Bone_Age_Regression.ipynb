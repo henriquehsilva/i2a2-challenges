{
  "nbformat": 4,
  "nbformat_minor": 0,
  "metadata": {
    "colab": {
      "name": "I2A2 - Bone Age Regression.ipynb",
      "provenance": [],
      "collapsed_sections": [],
      "toc_visible": true,
      "authorship_tag": "ABX9TyM0w8IViYUvBOSVTPVe7dGf",
      "include_colab_link": true
    },
    "kernelspec": {
      "name": "python3",
      "display_name": "Python 3"
    }
  },
  "cells": [
    {
      "cell_type": "markdown",
      "metadata": {
        "id": "view-in-github",
        "colab_type": "text"
      },
      "source": [
        "<a href=\"https://colab.research.google.com/github/henriquehsilva/i2a2-challenges/blob/master/I2A2_Bone_Age_Regression.ipynb\" target=\"_parent\"><img src=\"https://colab.research.google.com/assets/colab-badge.svg\" alt=\"Open In Colab\"/></a>"
      ]
    },
    {
      "cell_type": "markdown",
      "metadata": {
        "id": "EL5RRm6h25nn",
        "colab_type": "text"
      },
      "source": [
        "# I2A2 - Bone Age Regression\n",
        "---\n",
        "\n"
      ]
    },
    {
      "cell_type": "markdown",
      "metadata": {
        "id": "lc_Qc37k2oWO",
        "colab_type": "text"
      },
      "source": [
        "## Contexto\n",
        "> ### Criar um modelo para prever a idade óssea de crianças pelo um raio-x da mão.\n",
        "\n",
        "\n",
        "*   O conjunto de dados de treinamento vem da competição RSNA 2017\n",
        "*   O conjunto de dados de teste é de um hospital brasileiro\n",
        "\n",
        "**Diretivas primárias:** \n",
        "\n",
        "\n",
        "1. Generalizar o modelo para lidar com a mudança de distribuição entre os conjuntos de dados;\n",
        "2. O conjunto de dados de **TREINAMENTO contém apenas imagens com a mão esquerda**, o conjunto de dados de **TESTE contém algumas imagens com as duas mãos**;\n",
        "3. Ajustar o modelo, para lidar com a variãncia de resultados entre pacientes de sexos opostos;\n",
        "\n",
        "---\n",
        "## Visão geral\n",
        "\n",
        "Uma das principais preocupações da medicina e da odontologia legal é a busca\n",
        "de mecanismos que permitam a determinação da idade de pessoas e, para o desenvolvimento\n",
        "deste trabalho, escolheu-se a **região de mão e pulso**, para a determinação da idade e do\n",
        "desenvolvimento ósseo, devido a seqüência cronológica que a mesma apresenta bem como a\n",
        "quantidade de ossos e epífises em uma área não muito extensa sendo possível realizar uma\n",
        "única tomada radiográfica, evitando-se exposições desnecessárias ao paciente. \n",
        "\n",
        "Após estudo da tese de mestrado do cirurgião dentista Mauricio Roberto Bosquiero: [DETERMINAÇÃO DA MATURIDADE ESQUELÉTICA\n",
        "E ESTIMATIVA DA IDADE ATRA VÊS DE\n",
        "RADIOGRAFIAS CARPAIS.](https://storage.googleapis.com/bone-age-regression.henriquesilva.dev/docs/tese_mauricio_roberto.pdf), podemos chegar a uma terceira diretiva, referente a clara variância da maturidade esquelética de pacientes de mesma idade e sexos opostos.\n",
        "\n",
        "---\n",
        "\n",
        "\n",
        "> ### Pretendo avaliar o desempenho dos seguintes modelos pré-treinados: <br />\n",
        "**ResNet-50**, **Inception-V3** e **VGG-16**, a fim de criar um desenho apropriado da camada pré-treinada para CNNs na previsão da idade óssea.\n"
      ]
    },
    {
      "cell_type": "code",
      "metadata": {
        "id": "cnYtLmx20r7J",
        "colab_type": "code",
        "colab": {
          "base_uri": "https://localhost:8080/",
          "height": 289
        },
        "outputId": "2ad0640a-88b9-40e5-9028-8167a64fad65"
      },
      "source": [
        "!pip install sweetviz"
      ],
      "execution_count": null,
      "outputs": [
        {
          "output_type": "stream",
          "text": [
            "Requirement already satisfied: sweetviz in /usr/local/lib/python3.6/dist-packages (1.0a7)\n",
            "Requirement already satisfied: importlib-resources>=1.2.0 in /usr/local/lib/python3.6/dist-packages (from sweetviz) (3.0.0)\n",
            "Requirement already satisfied: matplotlib>=3.1.3 in /usr/local/lib/python3.6/dist-packages (from sweetviz) (3.2.2)\n",
            "Requirement already satisfied: jinja2>=2.11.1 in /usr/local/lib/python3.6/dist-packages (from sweetviz) (2.11.2)\n",
            "Requirement already satisfied: tqdm>=4.43.0 in /usr/local/lib/python3.6/dist-packages (from sweetviz) (4.47.0)\n",
            "Requirement already satisfied: numpy>=1.16.0 in /usr/local/lib/python3.6/dist-packages (from sweetviz) (1.18.5)\n",
            "Requirement already satisfied: pandas!=1.0.0,!=1.0.1,!=1.0.2,>=0.25.3 in /usr/local/lib/python3.6/dist-packages (from sweetviz) (1.0.5)\n",
            "Requirement already satisfied: scipy>=1.3.2 in /usr/local/lib/python3.6/dist-packages (from sweetviz) (1.4.1)\n",
            "Requirement already satisfied: zipp>=0.4; python_version < \"3.8\" in /usr/local/lib/python3.6/dist-packages (from importlib-resources>=1.2.0->sweetviz) (3.1.0)\n",
            "Requirement already satisfied: kiwisolver>=1.0.1 in /usr/local/lib/python3.6/dist-packages (from matplotlib>=3.1.3->sweetviz) (1.2.0)\n",
            "Requirement already satisfied: python-dateutil>=2.1 in /usr/local/lib/python3.6/dist-packages (from matplotlib>=3.1.3->sweetviz) (2.8.1)\n",
            "Requirement already satisfied: cycler>=0.10 in /usr/local/lib/python3.6/dist-packages (from matplotlib>=3.1.3->sweetviz) (0.10.0)\n",
            "Requirement already satisfied: pyparsing!=2.0.4,!=2.1.2,!=2.1.6,>=2.0.1 in /usr/local/lib/python3.6/dist-packages (from matplotlib>=3.1.3->sweetviz) (2.4.7)\n",
            "Requirement already satisfied: MarkupSafe>=0.23 in /usr/local/lib/python3.6/dist-packages (from jinja2>=2.11.1->sweetviz) (1.1.1)\n",
            "Requirement already satisfied: pytz>=2017.2 in /usr/local/lib/python3.6/dist-packages (from pandas!=1.0.0,!=1.0.1,!=1.0.2,>=0.25.3->sweetviz) (2018.9)\n",
            "Requirement already satisfied: six>=1.5 in /usr/local/lib/python3.6/dist-packages (from python-dateutil>=2.1->matplotlib>=3.1.3->sweetviz) (1.12.0)\n"
          ],
          "name": "stdout"
        }
      ]
    },
    {
      "cell_type": "code",
      "metadata": {
        "id": "m3mNnzLq1zZl",
        "colab_type": "code",
        "colab": {}
      },
      "source": [
        "import tensorflow as tf"
      ],
      "execution_count": 1,
      "outputs": []
    },
    {
      "cell_type": "code",
      "metadata": {
        "id": "FthDiXSz4rE0",
        "colab_type": "code",
        "colab": {
          "base_uri": "https://localhost:8080/",
          "height": 34
        },
        "outputId": "b3819acd-b00b-492d-f1aa-c199a6d46554"
      },
      "source": [
        "print(tf.__version__)"
      ],
      "execution_count": 4,
      "outputs": [
        {
          "output_type": "stream",
          "text": [
            "2.2.0\n"
          ],
          "name": "stdout"
        }
      ]
    },
    {
      "cell_type": "code",
      "metadata": {
        "id": "G6jUcKGKqvqW",
        "colab_type": "code",
        "colab": {}
      },
      "source": [
        "from sklearn.model_selection import train_test_split\n",
        "import pandas as pd\n",
        "import sweetviz\n",
        "import requests\n",
        "from google.colab import auth\n",
        "from datetime import datetime"
      ],
      "execution_count": null,
      "outputs": []
    },
    {
      "cell_type": "markdown",
      "metadata": {
        "id": "SX8X_-MYms2U",
        "colab_type": "text"
      },
      "source": [
        "# Configurando conjuntos de desenvolvimento e de teste\n",
        "---\n",
        "\n",
        "O **Google Cloud Storage** foi escolhido como centralizador dos arquivos de suporte, bem como aos novos arquivos e relatórios gerados, por oferecer a disponibilidade e a capacidade necessárias para se trabalhar de forma distribuida.\n"
      ]
    },
    {
      "cell_type": "code",
      "metadata": {
        "id": "Xf_XG-7dn5Am",
        "colab_type": "code",
        "colab": {}
      },
      "source": [
        "GCP_STORAGE_BASE_URI = \"https://storage.googleapis.com/bone-age-regression.henriquesilva.dev\"\n",
        "\n",
        "TRAIN_URI = f\"{GCP_STORAGE_BASE_URI}/train.csv\"\n",
        "TEST_URI = f\"{GCP_STORAGE_BASE_URI}/test.csv\"\n",
        "\n",
        "full_train_df = pd.read_csv(TRAIN_URI)\n",
        "test = pd.read_csv(TEST_URI)"
      ],
      "execution_count": null,
      "outputs": []
    },
    {
      "cell_type": "code",
      "metadata": {
        "id": "jdtoLuFfjvEZ",
        "colab_type": "code",
        "colab": {
          "base_uri": "https://localhost:8080/",
          "height": 34
        },
        "outputId": "0c101238-305b-488c-8a1d-ab4030beeea9"
      },
      "source": [
        "now = datetime.now()\n",
        "\n",
        "timestamp = now.strftime(\"%Y%m%d%H%M%S\")\n",
        "print(\"timestamp =\", timestamp)"
      ],
      "execution_count": null,
      "outputs": [
        {
          "output_type": "stream",
          "text": [
            "timestamp = 20200714002253\n"
          ],
          "name": "stdout"
        }
      ]
    },
    {
      "cell_type": "code",
      "metadata": {
        "id": "bOs2EKPfYZWs",
        "colab_type": "code",
        "colab": {}
      },
      "source": [
        "full_train_df['boneage_category'] = pd.cut(full_train_df['boneage'], 10)"
      ],
      "execution_count": null,
      "outputs": []
    },
    {
      "cell_type": "code",
      "metadata": {
        "id": "oy4JbQX5cf1I",
        "colab_type": "code",
        "colab": {
          "base_uri": "https://localhost:8080/",
          "height": 34
        },
        "outputId": "db51ab5c-df77-4faf-8ed9-5fc8f9101f47"
      },
      "source": [
        "\n",
        "train_df, valid_df = train_test_split(\n",
        "    full_train_df, \n",
        "    test_size = 0.25, \n",
        "    random_state = 2018,\n",
        "    stratify = full_train_df['boneage_category']\n",
        "  )\n",
        "\n",
        "print('train', train_df.shape[0], 'validation', valid_df.shape[0])"
      ],
      "execution_count": null,
      "outputs": [
        {
          "output_type": "stream",
          "text": [
            "train 9458 validation 3153\n"
          ],
          "name": "stdout"
        }
      ]
    },
    {
      "cell_type": "code",
      "metadata": {
        "id": "aELMqUA4UzRE",
        "colab_type": "code",
        "colab": {
          "base_uri": "https://localhost:8080/",
          "height": 204
        },
        "outputId": "87104076-4b8f-4ba1-a5ce-667140eaacdd"
      },
      "source": [
        "raw_train_df.head()"
      ],
      "execution_count": null,
      "outputs": [
        {
          "output_type": "execute_result",
          "data": {
            "text/html": [
              "<div>\n",
              "<style scoped>\n",
              "    .dataframe tbody tr th:only-of-type {\n",
              "        vertical-align: middle;\n",
              "    }\n",
              "\n",
              "    .dataframe tbody tr th {\n",
              "        vertical-align: top;\n",
              "    }\n",
              "\n",
              "    .dataframe thead th {\n",
              "        text-align: right;\n",
              "    }\n",
              "</style>\n",
              "<table border=\"1\" class=\"dataframe\">\n",
              "  <thead>\n",
              "    <tr style=\"text-align: right;\">\n",
              "      <th></th>\n",
              "      <th>fileName</th>\n",
              "      <th>patientSex</th>\n",
              "      <th>boneage</th>\n",
              "      <th>boneagezscore</th>\n",
              "      <th>boneageCategory</th>\n",
              "    </tr>\n",
              "  </thead>\n",
              "  <tbody>\n",
              "    <tr>\n",
              "      <th>2110</th>\n",
              "      <td>3726.png</td>\n",
              "      <td>F</td>\n",
              "      <td>162</td>\n",
              "      <td>162.0</td>\n",
              "      <td>(159.9, 182.6]</td>\n",
              "    </tr>\n",
              "    <tr>\n",
              "      <th>2066</th>\n",
              "      <td>3680.png</td>\n",
              "      <td>F</td>\n",
              "      <td>42</td>\n",
              "      <td>42.0</td>\n",
              "      <td>(23.7, 46.4]</td>\n",
              "    </tr>\n",
              "    <tr>\n",
              "      <th>420</th>\n",
              "      <td>1849.png</td>\n",
              "      <td>M</td>\n",
              "      <td>101</td>\n",
              "      <td>101.0</td>\n",
              "      <td>(91.8, 114.5]</td>\n",
              "    </tr>\n",
              "    <tr>\n",
              "      <th>11116</th>\n",
              "      <td>13950.png</td>\n",
              "      <td>M</td>\n",
              "      <td>156</td>\n",
              "      <td>156.0</td>\n",
              "      <td>(137.2, 159.9]</td>\n",
              "    </tr>\n",
              "    <tr>\n",
              "      <th>2995</th>\n",
              "      <td>4895.png</td>\n",
              "      <td>M</td>\n",
              "      <td>96</td>\n",
              "      <td>96.0</td>\n",
              "      <td>(91.8, 114.5]</td>\n",
              "    </tr>\n",
              "  </tbody>\n",
              "</table>\n",
              "</div>"
            ],
            "text/plain": [
              "        fileName patientSex  boneage  boneagezscore boneageCategory\n",
              "2110    3726.png          F      162          162.0  (159.9, 182.6]\n",
              "2066    3680.png          F       42           42.0    (23.7, 46.4]\n",
              "420     1849.png          M      101          101.0   (91.8, 114.5]\n",
              "11116  13950.png          M      156          156.0  (137.2, 159.9]\n",
              "2995    4895.png          M       96           96.0   (91.8, 114.5]"
            ]
          },
          "metadata": {
            "tags": []
          },
          "execution_count": 10
        }
      ]
    },
    {
      "cell_type": "code",
      "metadata": {
        "id": "q3M_sccQ03Pi",
        "colab_type": "code",
        "colab": {}
      },
      "source": [
        "train['imageURL'] = train['fileName'].map(\n",
        "    lambda file_name: f'<a href=\"{GCP_STORAGE_BASE_URI}/images/{file_name}\">{file_name}</a>')"
      ],
      "execution_count": null,
      "outputs": []
    },
    {
      "cell_type": "code",
      "metadata": {
        "id": "XqslUdg-9PO9",
        "colab_type": "code",
        "colab": {}
      },
      "source": [
        "HTML(train.sample(10).to_html(render_links=True, escape=False))"
      ],
      "execution_count": null,
      "outputs": []
    },
    {
      "cell_type": "markdown",
      "metadata": {
        "id": "VhL1J1XVS3Z5",
        "colab_type": "text"
      },
      "source": [
        "# Exploratory data analysis (EDA)\n",
        "\n",
        "# It is an essential early step in most data science projects and it often consists of taking the same steps to characterize a dataset (e.g. find out data types, missing information, distribution of values, correlations, etc.)."
      ]
    },
    {
      "cell_type": "markdown",
      "metadata": {
        "id": "TE_wnhfmT7Ca",
        "colab_type": "text"
      },
      "source": [
        "Running this command will perform the analysis and create the report object. To get the output, simply use the `show_html()` command:"
      ]
    },
    {
      "cell_type": "code",
      "metadata": {
        "id": "lZCpmhcqhbd7",
        "colab_type": "code",
        "colab": {}
      },
      "source": [
        "valid = valid_df.drop(columns=['fileName', 'boneage_category'])"
      ],
      "execution_count": null,
      "outputs": []
    },
    {
      "cell_type": "code",
      "metadata": {
        "id": "9okAuEfQh53Y",
        "colab_type": "code",
        "colab": {}
      },
      "source": [
        "train = train_df.drop(columns=['fileName', 'boneage_category'])"
      ],
      "execution_count": null,
      "outputs": []
    },
    {
      "cell_type": "code",
      "metadata": {
        "id": "_9zFRCC8qTmF",
        "colab_type": "code",
        "colab": {
          "base_uri": "https://localhost:8080/",
          "height": 163
        },
        "outputId": "92e21a72-17fa-4fef-d1a1-a22ef98a988d"
      },
      "source": [
        "print(time)"
      ],
      "execution_count": null,
      "outputs": [
        {
          "output_type": "error",
          "ename": "NameError",
          "evalue": "ignored",
          "traceback": [
            "\u001b[0;31m---------------------------------------------------------------------------\u001b[0m",
            "\u001b[0;31mNameError\u001b[0m                                 Traceback (most recent call last)",
            "\u001b[0;32m<ipython-input-46-4ce5b39b2a57>\u001b[0m in \u001b[0;36m<module>\u001b[0;34m()\u001b[0m\n\u001b[0;32m----> 1\u001b[0;31m \u001b[0mprint\u001b[0m\u001b[0;34m(\u001b[0m\u001b[0mtime\u001b[0m\u001b[0;34m)\u001b[0m\u001b[0;34m\u001b[0m\u001b[0;34m\u001b[0m\u001b[0m\n\u001b[0m",
            "\u001b[0;31mNameError\u001b[0m: name 'time' is not defined"
          ]
        }
      ]
    },
    {
      "cell_type": "code",
      "metadata": {
        "id": "UAZLcbzYsH5_",
        "colab_type": "code",
        "colab": {
          "base_uri": "https://localhost:8080/",
          "height": 748
        },
        "outputId": "fea214fa-e90c-4ac9-a61e-90c317fbe9f3"
      },
      "source": [
        "report_file = f\"{timestamp}_report_view.html\"\n",
        "\n",
        "data_report = sweetviz.compare([train, \"Train\"], [valid, \"Valid\"], \"boneage\")\n",
        "data_report.show_html(report_file)"
      ],
      "execution_count": null,
      "outputs": [
        {
          "output_type": "stream",
          "text": [
            "\n",
            "\n",
            "\n",
            "\n",
            "                                   |                         | [  0%]   00:00  -> (? left)\u001b[A\u001b[A\u001b[A\u001b[A\n",
            "\n",
            "\n",
            "\n",
            "Summarizing dataframe:             |                         | [  0%]   00:00  -> (? left)\u001b[A\u001b[A\u001b[A\u001b[A\n",
            "\n",
            "\n",
            "\n",
            ":TARGET::                          |███████              | [ 33%]   00:00  -> (00:00 left)\u001b[A\u001b[A\u001b[A\u001b[A\n",
            "\n",
            "\n",
            "\n",
            ":TARGET::                          |██████████████       | [ 67%]   00:00  -> (00:00 left)\u001b[A\u001b[A\u001b[A\u001b[A\n",
            "\n",
            "\n",
            "\n",
            ":patientSex:                       |██████████████       | [ 67%]   00:00  -> (00:00 left)\u001b[A\u001b[A\u001b[A\u001b[A\n",
            "\n",
            "\n",
            "\n",
            ":patientSex:                       |█████████████████████| [100%]   00:01  -> (00:00 left)\u001b[A\u001b[A\u001b[A\u001b[A\n",
            "\n",
            "\n",
            "\n",
            ":FEATURES DONE:                    |█████████████████████| [100%]   00:01  -> (00:00 left)\n",
            "\n",
            "\n",
            "\n",
            "\n",
            "                                   |                         | [  0%]   00:00  -> (? left)\u001b[A\u001b[A\u001b[A\u001b[A\n",
            "\n",
            "\n",
            "\n",
            ":Processing Pairwise Features:     |                         | [  0%]   00:00  -> (? left)\u001b[A\u001b[A\u001b[A\u001b[A\n",
            "\n",
            "\n",
            "\n",
            ":PAIRWISE DONE:                    |█████████████████████| [100%]   00:00  -> (00:00 left)\n"
          ],
          "name": "stderr"
        },
        {
          "output_type": "stream",
          "text": [
            "Creating Associations graph... DONE!\n"
          ],
          "name": "stdout"
        }
      ]
    },
    {
      "cell_type": "code",
      "metadata": {
        "id": "yRWC_PgcsOO4",
        "colab_type": "code",
        "colab": {
          "base_uri": "https://localhost:8080/",
          "height": 85
        },
        "outputId": "dd22eaeb-51d3-4645-e751-ef6b83903e5d"
      },
      "source": [
        "auth.authenticate_user()\n",
        "\n",
        "GCP_PROJECT_ID = 'i2a2-283020'\n",
        "GCP_BUCKET_NAME = 'bone-age-regression.henriquesilva.dev'\n",
        "\n",
        "!gcloud config set project {GCP_PROJECT_ID}\n",
        "\n",
        "!gsutil cp /content/\"{report_file}\" gs://{GCP_BUCKET_NAME}/reports/\n"
      ],
      "execution_count": null,
      "outputs": [
        {
          "output_type": "stream",
          "text": [
            "Updated property [core/project].\n",
            "Copying file:///content/20200714002253_report_view.html [Content-Type=text/html]...\n",
            "-\n",
            "Operation completed over 1 objects/553.7 KiB.                                    \n"
          ],
          "name": "stdout"
        }
      ]
    },
    {
      "cell_type": "code",
      "metadata": {
        "id": "FWvPk1iDVwoq",
        "colab_type": "code",
        "colab": {
          "base_uri": "https://localhost:8080/",
          "height": 142
        },
        "outputId": "f335cea1-7aed-4e1c-f0e5-e3a021d0ef6d"
      },
      "source": [
        "train['boneage_category'] = pd.cut(train['boneage'], 10)\n",
        "train.sample(3)"
      ],
      "execution_count": null,
      "outputs": [
        {
          "output_type": "execute_result",
          "data": {
            "text/html": [
              "<div>\n",
              "<style scoped>\n",
              "    .dataframe tbody tr th:only-of-type {\n",
              "        vertical-align: middle;\n",
              "    }\n",
              "\n",
              "    .dataframe tbody tr th {\n",
              "        vertical-align: top;\n",
              "    }\n",
              "\n",
              "    .dataframe thead th {\n",
              "        text-align: right;\n",
              "    }\n",
              "</style>\n",
              "<table border=\"1\" class=\"dataframe\">\n",
              "  <thead>\n",
              "    <tr style=\"text-align: right;\">\n",
              "      <th></th>\n",
              "      <th>patientSex</th>\n",
              "      <th>boneage</th>\n",
              "      <th>boneage_category</th>\n",
              "    </tr>\n",
              "  </thead>\n",
              "  <tbody>\n",
              "    <tr>\n",
              "      <th>11525</th>\n",
              "      <td>F</td>\n",
              "      <td>120</td>\n",
              "      <td>(114.5, 137.2]</td>\n",
              "    </tr>\n",
              "    <tr>\n",
              "      <th>10189</th>\n",
              "      <td>F</td>\n",
              "      <td>132</td>\n",
              "      <td>(114.5, 137.2]</td>\n",
              "    </tr>\n",
              "    <tr>\n",
              "      <th>5036</th>\n",
              "      <td>F</td>\n",
              "      <td>9</td>\n",
              "      <td>(0.773, 23.7]</td>\n",
              "    </tr>\n",
              "  </tbody>\n",
              "</table>\n",
              "</div>"
            ],
            "text/plain": [
              "      patientSex  boneage boneage_category\n",
              "11525          F      120   (114.5, 137.2]\n",
              "10189          F      132   (114.5, 137.2]\n",
              "5036           F        9    (0.773, 23.7]"
            ]
          },
          "metadata": {
            "tags": []
          },
          "execution_count": 71
        }
      ]
    },
    {
      "cell_type": "code",
      "metadata": {
        "id": "ekCm8d5bPone",
        "colab_type": "code",
        "colab": {
          "base_uri": "https://localhost:8080/",
          "height": 34
        },
        "outputId": "2557ee27-2072-40ff-9818-1379c6776e0a"
      },
      "source": [
        "response = requests.get(f\"{GCP_STORAGE_BASE_URI}/reports/{report_file}\")\n",
        "\n",
        "if (response.status_code == 200):\n",
        "  print(f\"Open your report it using the default browser like link: {response.url}\")\n",
        "else:\n",
        "  print(\"Sorry, the report not found.\")"
      ],
      "execution_count": null,
      "outputs": [
        {
          "output_type": "stream",
          "text": [
            "Open your report it using the default browser like link: https://storage.googleapis.com/bone-age-regression.henriquesilva.dev/reports/20200714002253_report_view.html\n"
          ],
          "name": "stdout"
        }
      ]
    }
  ]
}